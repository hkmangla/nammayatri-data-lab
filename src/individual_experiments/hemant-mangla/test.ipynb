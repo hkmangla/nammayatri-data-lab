{
 "cells": [
  {
   "cell_type": "code",
   "execution_count": 2,
   "id": "ef7d4368-b5d0-412e-9434-5bf1e36595a9",
   "metadata": {},
   "outputs": [],
   "source": [
    "import sys\n",
    "sys.path.append('../../')\n",
    "from utils import data_loader"
   ]
  },
  {
   "cell_type": "code",
   "execution_count": 9,
   "id": "8e8ec5ab-dab8-430a-af7f-de7654f08398",
   "metadata": {},
   "outputs": [],
   "source": [
    "db_config = {\n",
    "    'host': 'localhost',\n",
    "    'port': 5434,  # Update with your port number\n",
    "    'dbname': 'atlas_dev',\n",
    "    'user': 'atlas_driver_offer_bpp_user'\n",
    "}\n",
    "db_connection = data_loader.connect_db(db_config)"
   ]
  },
  {
   "cell_type": "code",
   "execution_count": 16,
   "id": "a8d7ac18-d827-491a-b616-f8615cda594f",
   "metadata": {},
   "outputs": [],
   "source": [
    "df = data_loader.load_db_data(db_connection, 'atlas_driver_offer_bpp', 'ride')"
   ]
  },
  {
   "cell_type": "code",
   "execution_count": 17,
   "id": "67082a0c-076a-411f-acdc-d8718c92d5c1",
   "metadata": {},
   "outputs": [
    {
     "data": {
      "text/html": [
       "<div>\n",
       "<style scoped>\n",
       "    .dataframe tbody tr th:only-of-type {\n",
       "        vertical-align: middle;\n",
       "    }\n",
       "\n",
       "    .dataframe tbody tr th {\n",
       "        vertical-align: top;\n",
       "    }\n",
       "\n",
       "    .dataframe thead th {\n",
       "        text-align: right;\n",
       "    }\n",
       "</style>\n",
       "<table border=\"1\" class=\"dataframe\">\n",
       "  <thead>\n",
       "    <tr style=\"text-align: right;\">\n",
       "      <th></th>\n",
       "      <th>id</th>\n",
       "      <th>booking_id</th>\n",
       "      <th>short_id</th>\n",
       "      <th>status</th>\n",
       "      <th>driver_id</th>\n",
       "      <th>otp</th>\n",
       "      <th>tracking_url</th>\n",
       "      <th>fare</th>\n",
       "      <th>traveled_distance</th>\n",
       "      <th>created_at</th>\n",
       "      <th>...</th>\n",
       "      <th>merchant_operating_city_id</th>\n",
       "      <th>number_of_osrm_snap_to_road_calls</th>\n",
       "      <th>safety_alert_triggered</th>\n",
       "      <th>is_free_ride</th>\n",
       "      <th>end_otp</th>\n",
       "      <th>start_odometer_reading_value</th>\n",
       "      <th>end_odometer_reading_value</th>\n",
       "      <th>start_odometer_reading_file_id</th>\n",
       "      <th>end_odometer_reading_file_id</th>\n",
       "      <th>enable_frequent_location_updates</th>\n",
       "    </tr>\n",
       "  </thead>\n",
       "  <tbody>\n",
       "  </tbody>\n",
       "</table>\n",
       "<p>0 rows × 39 columns</p>\n",
       "</div>"
      ],
      "text/plain": [
       "Empty DataFrame\n",
       "Columns: [id, booking_id, short_id, status, driver_id, otp, tracking_url, fare, traveled_distance, created_at, updated_at, trip_start_time, trip_end_time, chargeable_distance, trip_start_lat, trip_start_lon, trip_end_lat, trip_end_lon, driver_arrival_time, fare_parameters_id, distance_calculation_failed, pickup_drop_outside_of_threshold, merchant_id, number_of_deviation, driver_deviated_from_route, number_of_snap_to_road_calls, driver_go_home_request_id, ui_distance_calculation_with_accuracy, ui_distance_calculation_without_accuracy, merchant_operating_city_id, number_of_osrm_snap_to_road_calls, safety_alert_triggered, is_free_ride, end_otp, start_odometer_reading_value, end_odometer_reading_value, start_odometer_reading_file_id, end_odometer_reading_file_id, enable_frequent_location_updates]\n",
       "Index: []\n",
       "\n",
       "[0 rows x 39 columns]"
      ]
     },
     "execution_count": 17,
     "metadata": {},
     "output_type": "execute_result"
    }
   ],
   "source": [
    "df"
   ]
  }
 ],
 "metadata": {
  "kernelspec": {
   "display_name": "Python 3 (ipykernel)",
   "language": "python",
   "name": "python3"
  },
  "language_info": {
   "codemirror_mode": {
    "name": "ipython",
    "version": 3
   },
   "file_extension": ".py",
   "mimetype": "text/x-python",
   "name": "python",
   "nbconvert_exporter": "python",
   "pygments_lexer": "ipython3",
   "version": "3.9.6"
  }
 },
 "nbformat": 4,
 "nbformat_minor": 5
}
